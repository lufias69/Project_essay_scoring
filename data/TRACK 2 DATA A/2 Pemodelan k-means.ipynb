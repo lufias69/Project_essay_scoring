{
 "cells": [
  {
   "cell_type": "code",
   "execution_count": 20,
   "metadata": {},
   "outputs": [],
   "source": [
    "import pandas as pd\n",
    "from sklearn.feature_extraction.text import TfidfVectorizer\n",
    "# from sklearn.feature_extraction.text import CountVectorizer as TfidfVectorizer\n",
    "from joblib import dump\n",
    "import numpy as np\n",
    "from sklearn.neighbors import KNeighborsClassifier\n",
    "import time\n",
    "from sklearn import svm"
   ]
  },
  {
   "cell_type": "code",
   "execution_count": 2,
   "metadata": {},
   "outputs": [],
   "source": [
    "data = pd.read_excel('data/Data_B_Bersih.xlsx')\n",
    "label = data['label']\n",
    "# y = [str(x) for x in label]\n",
    "respon = data['respon'].tolist()\n",
    "# respon\n",
    "y = np.array(label)"
   ]
  },
  {
   "cell_type": "code",
   "execution_count": 3,
   "metadata": {},
   "outputs": [
    {
     "data": {
      "text/plain": [
       "['model/tfdf_B.joblib']"
      ]
     },
     "execution_count": 3,
     "metadata": {},
     "output_type": "execute_result"
    }
   ],
   "source": [
    "\n",
    "vectorizer = TfidfVectorizer()\n",
    "X = vectorizer.fit_transform(respon).A\n",
    "save_ = vectorizer.fit(respon)\n",
    "# print(vectorizer.get_feature_names())\n",
    "dump(respon, 'model/tfdf_B.joblib')"
   ]
  },
  {
   "cell_type": "markdown",
   "metadata": {},
   "source": [
    "# K-Means"
   ]
  },
  {
   "cell_type": "code",
   "execution_count": 4,
   "metadata": {},
   "outputs": [],
   "source": []
  },
  {
   "cell_type": "code",
   "execution_count": 17,
   "metadata": {},
   "outputs": [
    {
     "data": {
      "text/plain": [
       "305"
      ]
     },
     "execution_count": 17,
     "metadata": {},
     "output_type": "execute_result"
    }
   ],
   "source": [
    "from sklearn.cluster import KMeans\n",
    "import numpy as np\n",
    "\n",
    "kmeans = KMeans(n_clusters=2, random_state=0).fit(X)\n",
    "new_labels =  kmeans.labels_\n",
    "y = new_labels\n",
    "len(respon)"
   ]
  },
  {
   "cell_type": "code",
   "execution_count": 18,
   "metadata": {},
   "outputs": [],
   "source": [
    "dict_ = {\n",
    "    'label':label,\n",
    "    'new_labels':new_labels,\n",
    "    'respon':respon  \n",
    "}\n",
    "\n",
    "hasil = pd.DataFrame.from_dict(dict_)"
   ]
  },
  {
   "cell_type": "code",
   "execution_count": null,
   "metadata": {},
   "outputs": [],
   "source": []
  },
  {
   "cell_type": "code",
   "execution_count": null,
   "metadata": {},
   "outputs": [],
   "source": []
  },
  {
   "cell_type": "code",
   "execution_count": null,
   "metadata": {},
   "outputs": [],
   "source": []
  },
  {
   "cell_type": "code",
   "execution_count": null,
   "metadata": {},
   "outputs": [],
   "source": []
  },
  {
   "cell_type": "code",
   "execution_count": 45,
   "metadata": {},
   "outputs": [
    {
     "data": {
      "text/plain": [
       "0"
      ]
     },
     "execution_count": 45,
     "metadata": {},
     "output_type": "execute_result"
    }
   ],
   "source": [
    "i"
   ]
  },
  {
   "cell_type": "code",
   "execution_count": 14,
   "metadata": {},
   "outputs": [
    {
     "data": {
      "text/plain": [
       "StratifiedKFold(n_splits=10, random_state=2, shuffle=True)"
      ]
     },
     "execution_count": 14,
     "metadata": {},
     "output_type": "execute_result"
    }
   ],
   "source": [
    "K = 10 #pembagian data uji dan data latih\n",
    "# from sklearn.model_selection import KFold\n",
    "from sklearn.model_selection import StratifiedKFold\n",
    "from sklearn.metrics import accuracy_score #, precision_score, recall_score\n",
    "# kf= KFold(n_splits=K) \n",
    "skf = StratifiedKFold(n_splits=K,random_state=2, shuffle=True)\n",
    "skf"
   ]
  },
  {
   "cell_type": "code",
   "execution_count": 19,
   "metadata": {
    "scrolled": true
   },
   "outputs": [
    {
     "name": "stderr",
     "output_type": "stream",
     "text": [
      "C:\\Users\\lufias\\Anaconda3\\lib\\site-packages\\sklearn\\model_selection\\_split.py:657: Warning: The least populated class in y has only 49 members, which is too few. The minimum number of members in any class cannot be less than n_splits=100.\n",
      "  % (min_groups, self.n_splits)), Warning)\n"
     ]
    },
    {
     "name": "stdout",
     "output_type": "stream",
     "text": [
      "iterasi ke- 0\n",
      "------------------------------\n",
      "C     :  1.0\n",
      "gamma :  0.1\n",
      "--------------------\n",
      "Rata-rata Akurasi SVM : 0.96\n",
      "Rata-rata Waktu eksekusi SVM: 0.02\n",
      "Rata-rata Waktu prediksi  SVM: 0.00\n",
      "==============================\n"
     ]
    },
    {
     "name": "stderr",
     "output_type": "stream",
     "text": [
      "C:\\Users\\lufias\\Anaconda3\\lib\\site-packages\\sklearn\\model_selection\\_split.py:657: Warning: The least populated class in y has only 49 members, which is too few. The minimum number of members in any class cannot be less than n_splits=100.\n",
      "  % (min_groups, self.n_splits)), Warning)\n"
     ]
    },
    {
     "name": "stdout",
     "output_type": "stream",
     "text": [
      "iterasi ke- 1\n",
      "------------------------------\n",
      "C     :  1.0\n",
      "gamma :  0.2\n",
      "--------------------\n",
      "Rata-rata Akurasi SVM : 0.96\n",
      "Rata-rata Waktu eksekusi SVM: 0.02\n",
      "Rata-rata Waktu prediksi  SVM: 0.00\n",
      "==============================\n"
     ]
    },
    {
     "name": "stderr",
     "output_type": "stream",
     "text": [
      "C:\\Users\\lufias\\Anaconda3\\lib\\site-packages\\sklearn\\model_selection\\_split.py:657: Warning: The least populated class in y has only 49 members, which is too few. The minimum number of members in any class cannot be less than n_splits=100.\n",
      "  % (min_groups, self.n_splits)), Warning)\n"
     ]
    },
    {
     "name": "stdout",
     "output_type": "stream",
     "text": [
      "iterasi ke- 2\n",
      "------------------------------\n",
      "C     :  1.0\n",
      "gamma :  0.30000000000000004\n",
      "--------------------\n",
      "Rata-rata Akurasi SVM : 0.98\n",
      "Rata-rata Waktu eksekusi SVM: 0.02\n",
      "Rata-rata Waktu prediksi  SVM: 0.00\n",
      "==============================\n"
     ]
    },
    {
     "name": "stderr",
     "output_type": "stream",
     "text": [
      "C:\\Users\\lufias\\Anaconda3\\lib\\site-packages\\sklearn\\model_selection\\_split.py:657: Warning: The least populated class in y has only 49 members, which is too few. The minimum number of members in any class cannot be less than n_splits=100.\n",
      "  % (min_groups, self.n_splits)), Warning)\n"
     ]
    },
    {
     "name": "stdout",
     "output_type": "stream",
     "text": [
      "iterasi ke- 3\n",
      "------------------------------\n",
      "C     :  1.0\n",
      "gamma :  0.4\n",
      "--------------------\n",
      "Rata-rata Akurasi SVM : 0.98\n",
      "Rata-rata Waktu eksekusi SVM: 0.02\n",
      "Rata-rata Waktu prediksi  SVM: 0.00\n",
      "==============================\n"
     ]
    },
    {
     "name": "stderr",
     "output_type": "stream",
     "text": [
      "C:\\Users\\lufias\\Anaconda3\\lib\\site-packages\\sklearn\\model_selection\\_split.py:657: Warning: The least populated class in y has only 49 members, which is too few. The minimum number of members in any class cannot be less than n_splits=100.\n",
      "  % (min_groups, self.n_splits)), Warning)\n"
     ]
    },
    {
     "name": "stdout",
     "output_type": "stream",
     "text": [
      "iterasi ke- 4\n",
      "------------------------------\n",
      "C     :  1.0\n",
      "gamma :  0.5\n",
      "--------------------\n",
      "Rata-rata Akurasi SVM : 0.98\n",
      "Rata-rata Waktu eksekusi SVM: 0.02\n",
      "Rata-rata Waktu prediksi  SVM: 0.00\n",
      "==============================\n"
     ]
    },
    {
     "name": "stderr",
     "output_type": "stream",
     "text": [
      "C:\\Users\\lufias\\Anaconda3\\lib\\site-packages\\sklearn\\model_selection\\_split.py:657: Warning: The least populated class in y has only 49 members, which is too few. The minimum number of members in any class cannot be less than n_splits=100.\n",
      "  % (min_groups, self.n_splits)), Warning)\n"
     ]
    },
    {
     "name": "stdout",
     "output_type": "stream",
     "text": [
      "iterasi ke- 5\n",
      "------------------------------\n",
      "C     :  1.0\n",
      "gamma :  0.6\n",
      "--------------------\n",
      "Rata-rata Akurasi SVM : 0.98\n",
      "Rata-rata Waktu eksekusi SVM: 0.02\n",
      "Rata-rata Waktu prediksi  SVM: 0.00\n",
      "==============================\n"
     ]
    },
    {
     "name": "stderr",
     "output_type": "stream",
     "text": [
      "C:\\Users\\lufias\\Anaconda3\\lib\\site-packages\\sklearn\\model_selection\\_split.py:657: Warning: The least populated class in y has only 49 members, which is too few. The minimum number of members in any class cannot be less than n_splits=100.\n",
      "  % (min_groups, self.n_splits)), Warning)\n"
     ]
    },
    {
     "name": "stdout",
     "output_type": "stream",
     "text": [
      "iterasi ke- 6\n",
      "------------------------------\n",
      "C     :  1.0\n",
      "gamma :  0.7000000000000001\n",
      "--------------------\n",
      "Rata-rata Akurasi SVM : 0.98\n",
      "Rata-rata Waktu eksekusi SVM: 0.02\n",
      "Rata-rata Waktu prediksi  SVM: 0.00\n",
      "==============================\n"
     ]
    },
    {
     "name": "stderr",
     "output_type": "stream",
     "text": [
      "C:\\Users\\lufias\\Anaconda3\\lib\\site-packages\\sklearn\\model_selection\\_split.py:657: Warning: The least populated class in y has only 49 members, which is too few. The minimum number of members in any class cannot be less than n_splits=100.\n",
      "  % (min_groups, self.n_splits)), Warning)\n"
     ]
    },
    {
     "name": "stdout",
     "output_type": "stream",
     "text": [
      "iterasi ke- 7\n",
      "------------------------------\n",
      "C     :  1.0\n",
      "gamma :  0.8\n",
      "--------------------\n",
      "Rata-rata Akurasi SVM : 0.98\n",
      "Rata-rata Waktu eksekusi SVM: 0.02\n",
      "Rata-rata Waktu prediksi  SVM: 0.00\n",
      "==============================\n"
     ]
    },
    {
     "name": "stderr",
     "output_type": "stream",
     "text": [
      "C:\\Users\\lufias\\Anaconda3\\lib\\site-packages\\sklearn\\model_selection\\_split.py:657: Warning: The least populated class in y has only 49 members, which is too few. The minimum number of members in any class cannot be less than n_splits=100.\n",
      "  % (min_groups, self.n_splits)), Warning)\n"
     ]
    },
    {
     "name": "stdout",
     "output_type": "stream",
     "text": [
      "iterasi ke- 8\n",
      "------------------------------\n",
      "C     :  1.0\n",
      "gamma :  0.9\n",
      "--------------------\n",
      "Rata-rata Akurasi SVM : 0.98\n",
      "Rata-rata Waktu eksekusi SVM: 0.03\n",
      "Rata-rata Waktu prediksi  SVM: 0.00\n",
      "==============================\n"
     ]
    },
    {
     "name": "stderr",
     "output_type": "stream",
     "text": [
      "C:\\Users\\lufias\\Anaconda3\\lib\\site-packages\\sklearn\\model_selection\\_split.py:657: Warning: The least populated class in y has only 49 members, which is too few. The minimum number of members in any class cannot be less than n_splits=100.\n",
      "  % (min_groups, self.n_splits)), Warning)\n"
     ]
    },
    {
     "name": "stdout",
     "output_type": "stream",
     "text": [
      "iterasi ke- 9\n",
      "------------------------------\n",
      "C     :  1.0\n",
      "gamma :  1.0\n",
      "--------------------\n",
      "Rata-rata Akurasi SVM : 0.97\n",
      "Rata-rata Waktu eksekusi SVM: 0.03\n",
      "Rata-rata Waktu prediksi  SVM: 0.00\n",
      "==============================\n"
     ]
    },
    {
     "name": "stderr",
     "output_type": "stream",
     "text": [
      "C:\\Users\\lufias\\Anaconda3\\lib\\site-packages\\sklearn\\model_selection\\_split.py:657: Warning: The least populated class in y has only 49 members, which is too few. The minimum number of members in any class cannot be less than n_splits=100.\n",
      "  % (min_groups, self.n_splits)), Warning)\n"
     ]
    },
    {
     "name": "stdout",
     "output_type": "stream",
     "text": [
      "iterasi ke- 10\n",
      "------------------------------\n",
      "C     :  1.0\n",
      "gamma :  1.1\n",
      "--------------------\n",
      "Rata-rata Akurasi SVM : 0.97\n",
      "Rata-rata Waktu eksekusi SVM: 0.03\n",
      "Rata-rata Waktu prediksi  SVM: 0.00\n",
      "==============================\n"
     ]
    },
    {
     "name": "stderr",
     "output_type": "stream",
     "text": [
      "C:\\Users\\lufias\\Anaconda3\\lib\\site-packages\\sklearn\\model_selection\\_split.py:657: Warning: The least populated class in y has only 49 members, which is too few. The minimum number of members in any class cannot be less than n_splits=100.\n",
      "  % (min_groups, self.n_splits)), Warning)\n",
      "ERROR:root:Internal Python error in the inspect module.\n",
      "Below is the traceback from this internal error.\n",
      "\n"
     ]
    },
    {
     "name": "stdout",
     "output_type": "stream",
     "text": [
      "Traceback (most recent call last):\n",
      "  File \"C:\\Users\\lufias\\Anaconda3\\lib\\site-packages\\IPython\\core\\interactiveshell.py\", line 3296, in run_code\n",
      "    exec(code_obj, self.user_global_ns, self.user_ns)\n",
      "  File \"<ipython-input-19-36b0ca3c002b>\", line 33, in <module>\n",
      "    cSVM = cSVM.fit(X_train, y_train) #SVM\n",
      "  File \"C:\\Users\\lufias\\Anaconda3\\lib\\site-packages\\sklearn\\svm\\base.py\", line 209, in fit\n",
      "    fit(X, y, sample_weight, solver_type, kernel, random_seed=seed)\n",
      "  File \"C:\\Users\\lufias\\Anaconda3\\lib\\site-packages\\sklearn\\svm\\base.py\", line 268, in _dense_fit\n",
      "    max_iter=self.max_iter, random_seed=random_seed)\n",
      "KeyboardInterrupt\n",
      "\n",
      "During handling of the above exception, another exception occurred:\n",
      "\n",
      "Traceback (most recent call last):\n",
      "  File \"C:\\Users\\lufias\\Anaconda3\\lib\\site-packages\\IPython\\core\\interactiveshell.py\", line 2033, in showtraceback\n",
      "    stb = value._render_traceback_()\n",
      "AttributeError: 'KeyboardInterrupt' object has no attribute '_render_traceback_'\n",
      "\n",
      "During handling of the above exception, another exception occurred:\n",
      "\n",
      "Traceback (most recent call last):\n",
      "  File \"C:\\Users\\lufias\\Anaconda3\\lib\\site-packages\\IPython\\core\\ultratb.py\", line 1095, in get_records\n",
      "    return _fixed_getinnerframes(etb, number_of_lines_of_context, tb_offset)\n",
      "  File \"C:\\Users\\lufias\\Anaconda3\\lib\\site-packages\\IPython\\core\\ultratb.py\", line 313, in wrapped\n",
      "    return f(*args, **kwargs)\n",
      "  File \"C:\\Users\\lufias\\Anaconda3\\lib\\site-packages\\IPython\\core\\ultratb.py\", line 347, in _fixed_getinnerframes\n",
      "    records = fix_frame_records_filenames(inspect.getinnerframes(etb, context))\n",
      "  File \"C:\\Users\\lufias\\Anaconda3\\lib\\inspect.py\", line 1502, in getinnerframes\n",
      "    frameinfo = (tb.tb_frame,) + getframeinfo(tb, context)\n",
      "  File \"C:\\Users\\lufias\\Anaconda3\\lib\\inspect.py\", line 1460, in getframeinfo\n",
      "    filename = getsourcefile(frame) or getfile(frame)\n",
      "  File \"C:\\Users\\lufias\\Anaconda3\\lib\\inspect.py\", line 696, in getsourcefile\n",
      "    if getattr(getmodule(object, filename), '__loader__', None) is not None:\n",
      "  File \"C:\\Users\\lufias\\Anaconda3\\lib\\inspect.py\", line 739, in getmodule\n",
      "    f = getabsfile(module)\n",
      "  File \"C:\\Users\\lufias\\Anaconda3\\lib\\inspect.py\", line 708, in getabsfile\n",
      "    _filename = getsourcefile(object) or getfile(object)\n",
      "  File \"C:\\Users\\lufias\\Anaconda3\\lib\\inspect.py\", line 693, in getsourcefile\n",
      "    if os.path.exists(filename):\n",
      "  File \"C:\\Users\\lufias\\Anaconda3\\lib\\genericpath.py\", line 19, in exists\n",
      "    os.stat(path)\n",
      "KeyboardInterrupt\n"
     ]
    },
    {
     "ename": "KeyboardInterrupt",
     "evalue": "",
     "output_type": "error",
     "traceback": [
      "\u001b[1;31m---------------------------------------------------------------------------\u001b[0m"
     ]
    }
   ],
   "source": [
    "# K = 10 #pembagian data uji dan data latih\n",
    "# from sklearn.model_selection import KFold\n",
    "# from sklearn.metrics import accuracy_score\n",
    "\n",
    "# kf = KFold(n_splits=K) \n",
    "C_range = np.arange(1.0,5,0.1)\n",
    "gamma_range = np.arange(0.1,2, 0.1)\n",
    "\n",
    "C_range_ = []\n",
    "gamma_range_ = []\n",
    "rerata_akurasi_svm = []\n",
    "rerata_waktu_eksekusi = []\n",
    "rerata_waktu_prediksi = []\n",
    "count=0\n",
    "for i in range(len(C_range)):\n",
    "    for j in range(len(gamma_range)):\n",
    "        C = C_range[i]\n",
    "        gamma = gamma_range[j]\n",
    "        akurasi_svm = []\n",
    "        waktu_eksekusi = []\n",
    "        waktu_prediksi = []\n",
    "        cSVM = svm.SVC(kernel='rbf', gamma=gamma, C=C) #model\n",
    "        for train_index, test_index in skf.split(X, y):\n",
    "#             print(train_index)\n",
    "            #membagi data latih dan data uji\n",
    "            X_train, X_test = X[train_index], X[test_index]\n",
    "#             print(train_index)\n",
    "            y_train = y[train_index]\n",
    "            y_test  = y[test_index]\n",
    "            \n",
    "            start = time.time()\n",
    "            #Melatih Model\n",
    "            cSVM = cSVM.fit(X_train, y_train) #SVM\n",
    "            end = time.time()\n",
    "            waktu_eksekusi.append(end-start)\n",
    "            \n",
    "            #proses prediksi\n",
    "            start = time.time()\n",
    "            P_SVM = cSVM.predict(X_test)\n",
    "            end = time.time()\n",
    "            waktu_prediksi.append(end-start)\n",
    "            \n",
    "            akurasi_svm.append(accuracy_score(y_test, P_SVM))\n",
    "        print(\"iterasi ke-\", count)\n",
    "        C_range_.append(C)\n",
    "        gamma_range_.append(gamma)\n",
    "        \n",
    "        rr = sum(akurasi_svm)/len(akurasi_svm)\n",
    "        rerata_akurasi_svm.append(rr)\n",
    "        count+=1\n",
    "        \n",
    "        rerata_waktu_eksekusi.append(sum(waktu_eksekusi)/len(waktu_eksekusi))\n",
    "        rerata_waktu_prediksi.append(sum(waktu_prediksi)/len(waktu_prediksi))\n",
    "        \n",
    "        #Menampilkan hasil \n",
    "        print(\"-\"*30)\n",
    "        print(\"C     : \", C)\n",
    "        print(\"gamma : \", gamma)\n",
    "        print(\"-\"*20)\n",
    "        print(\"Rata-rata Akurasi SVM : %0.2f\" % (sum(akurasi_svm)/len(akurasi_svm)))\n",
    "        print(\"Rata-rata Waktu eksekusi SVM: %0.2f\" % (sum(waktu_eksekusi)/len(waktu_eksekusi)))\n",
    "        print(\"Rata-rata Waktu prediksi  SVM: %0.2f\" % (sum(waktu_prediksi)/len(waktu_prediksi)))\n",
    "        print(\"=\"*30)\n",
    "    \n",
    "#proses mencari parameter dan akurasi terbaik\n",
    "x = max(rerata_akurasi_svm)\n",
    "#al = list(alpha_range)\n",
    "index = rerata_akurasi_svm.index(x)\n",
    "round(gamma_range_[index],2)\n",
    "print(\"---------------------------\")\n",
    "print(\"gamma terbaik adalah :\", round(gamma_range_[index],2))\n",
    "print(\"    C terbaik adalah :\", round(C_range_[index],2))\n",
    "print(\"             Akurasi :\", round(x, 2))\n",
    "\n",
    "#MENYIMPAN HASIL\n",
    "dict_komentar  = {\"gamma\":gamma_range_,\"c\":C_range_, \"akurasi\":rerata_akurasi_svm, \"waktu eksekusi\":rerata_waktu_eksekusi, \"waktu prediksi\":rerata_waktu_prediksi}\n",
    "df = pd.DataFrame(dict_komentar,columns = [\"gamma\", 'c', \"akurasi\", \"waktu eksekusi\", \"waktu prediksi\"])\n",
    "writer = pd.ExcelWriter('data/parameter/parameter-akurasi-svm.xlsx', engine='xlsxwriter')\n",
    "df.to_excel(writer, sheet_name='svm-parameter')\n",
    "#Close the Pandas Excel writer and output the Excel file.\n",
    "writer.save()"
   ]
  },
  {
   "cell_type": "code",
   "execution_count": null,
   "metadata": {},
   "outputs": [],
   "source": []
  }
 ],
 "metadata": {
  "kernelspec": {
   "display_name": "Python 3",
   "language": "python",
   "name": "python3"
  },
  "language_info": {
   "codemirror_mode": {
    "name": "ipython",
    "version": 3
   },
   "file_extension": ".py",
   "mimetype": "text/x-python",
   "name": "python",
   "nbconvert_exporter": "python",
   "pygments_lexer": "ipython3",
   "version": "3.7.3"
  }
 },
 "nbformat": 4,
 "nbformat_minor": 2
}
