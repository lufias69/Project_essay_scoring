{
 "cells": [
  {
   "cell_type": "code",
   "execution_count": 1,
   "metadata": {},
   "outputs": [],
   "source": [
    "import pandas as pd\n",
    "from model import prediksi\n",
    "import json"
   ]
  },
  {
   "cell_type": "markdown",
   "metadata": {},
   "source": [
    "# Load Data Uji"
   ]
  },
  {
   "cell_type": "code",
   "execution_count": 2,
   "metadata": {},
   "outputs": [],
   "source": [
    "data = pd.read_excel(\"data/data_dev_B.xlsx\")\n",
    "res_id = data['RES_ID']\n",
    "respon = data['RESPONSE']"
   ]
  },
  {
   "cell_type": "markdown",
   "metadata": {},
   "source": [
    "# Proses Prediksi"
   ]
  },
  {
   "cell_type": "code",
   "execution_count": 3,
   "metadata": {},
   "outputs": [
    {
     "data": {
      "text/plain": [
       "0"
      ]
     },
     "execution_count": 3,
     "metadata": {},
     "output_type": "execute_result"
    }
   ],
   "source": [
    "prediksi.prediksi(\"Beradaptasi dengan lingkungan\")"
   ]
  },
  {
   "cell_type": "code",
   "execution_count": 4,
   "metadata": {},
   "outputs": [
    {
     "name": "stdout",
     "output_type": "stream",
     "text": [
      "...................................................................................................100 ...................................................................................................200 ............................................|\n",
      "<<Masuk Proses Prediksi>>\n"
     ]
    }
   ],
   "source": [
    "hasil = prediksi.prediksi_list(respon)"
   ]
  },
  {
   "cell_type": "markdown",
   "metadata": {},
   "source": [
    "# Simpan hasil prediksi"
   ]
  },
  {
   "cell_type": "code",
   "execution_count": 5,
   "metadata": {},
   "outputs": [],
   "source": [
    "prediksi_ = hasil['prediksi']\n",
    "list_hasil = list()\n",
    "for r, p in zip(res_id, prediksi_):\n",
    "    dic={\n",
    "        'RES_ID':r,\n",
    "        'LABEL':p\n",
    "    }\n",
    "    list_hasil.append(dic)\n",
    "json.dumps(list_hasil)\n",
    "\n",
    "with open('hasil/predictions_test.json', 'w') as outfile:\n",
    "    json.dump(list_hasil, outfile)"
   ]
  },
  {
   "cell_type": "code",
   "execution_count": 6,
   "metadata": {},
   "outputs": [],
   "source": [
    "prediksi = hasil['prediksi']\n",
    "dict_ = {\n",
    "    'RES_ID':res_id,\n",
    "    'LABEL':prediksi,\n",
    "    'RESPONSE':respon,\n",
    "}\n",
    "df=pd.DataFrame.from_dict(dict_)\n",
    "df.to_excel(\"hasil/Hasil_all_3.xlsx\")"
   ]
  }
 ],
 "metadata": {
  "kernelspec": {
   "display_name": "Python 3",
   "language": "python",
   "name": "python3"
  },
  "language_info": {
   "codemirror_mode": {
    "name": "ipython",
    "version": 3
   },
   "file_extension": ".py",
   "mimetype": "text/x-python",
   "name": "python",
   "nbconvert_exporter": "python",
   "pygments_lexer": "ipython3",
   "version": "3.7.3"
  }
 },
 "nbformat": 4,
 "nbformat_minor": 2
}
