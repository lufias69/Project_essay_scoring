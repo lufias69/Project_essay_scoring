{
 "cells": [
  {
   "cell_type": "code",
   "execution_count": 12,
   "metadata": {},
   "outputs": [],
   "source": [
    "import sys\n",
    "sys.path.append('D:\\github\\python')\n",
    "import pandas as pd\n",
    "import xlsxwriter\n",
    "import re\n",
    "import time\n",
    "import numpy as np\n",
    "# from Modul.modulku import praproses as pps\n",
    "from Cek_typo import cek_typo as ct\n",
    "from Normalisasi_KBBI import normalisasi_kbbi as nkbi\n",
    "from modulku import praproses as pps\n",
    "from modulku import StemNstopW as stm\n",
    "import re\n",
    "from nltk.tokenize import TweetTokenizer\n",
    "tknzr = TweetTokenizer(strip_handles=True, reduce_len=True)"
   ]
  },
  {
   "cell_type": "code",
   "execution_count": null,
   "metadata": {},
   "outputs": [],
   "source": []
  },
  {
   "cell_type": "code",
   "execution_count": 13,
   "metadata": {},
   "outputs": [
    {
     "data": {
      "text/html": [
       "<div>\n",
       "<style scoped>\n",
       "    .dataframe tbody tr th:only-of-type {\n",
       "        vertical-align: middle;\n",
       "    }\n",
       "\n",
       "    .dataframe tbody tr th {\n",
       "        vertical-align: top;\n",
       "    }\n",
       "\n",
       "    .dataframe thead th {\n",
       "        text-align: right;\n",
       "    }\n",
       "</style>\n",
       "<table border=\"1\" class=\"dataframe\">\n",
       "  <thead>\n",
       "    <tr style=\"text-align: right;\">\n",
       "      <th></th>\n",
       "      <th>RES_ID</th>\n",
       "      <th>RESPONSE</th>\n",
       "      <th>SKOR 1</th>\n",
       "      <th>SKOR 2</th>\n",
       "      <th>AES</th>\n",
       "    </tr>\n",
       "  </thead>\n",
       "  <tbody>\n",
       "    <tr>\n",
       "      <th>0</th>\n",
       "      <td>TRACK2A1</td>\n",
       "      <td>penggusi iklim adalah orang orang yang terpaks...</td>\n",
       "      <td>1</td>\n",
       "      <td>0.0</td>\n",
       "      <td>0</td>\n",
       "    </tr>\n",
       "    <tr>\n",
       "      <th>1</th>\n",
       "      <td>TRACK2A2</td>\n",
       "      <td>dengan sabar menjalani nya.</td>\n",
       "      <td>1</td>\n",
       "      <td>0.0</td>\n",
       "      <td>1</td>\n",
       "    </tr>\n",
       "    <tr>\n",
       "      <th>2</th>\n",
       "      <td>TRACK2A3</td>\n",
       "      <td>Orang orang yang terpaksa meninggalkan komunit...</td>\n",
       "      <td>1</td>\n",
       "      <td>0.0</td>\n",
       "      <td>0</td>\n",
       "    </tr>\n",
       "    <tr>\n",
       "      <th>3</th>\n",
       "      <td>TRACK2A4</td>\n",
       "      <td>berkenalan dengan orang asing/baru</td>\n",
       "      <td>0</td>\n",
       "      <td>1.0</td>\n",
       "      <td>1</td>\n",
       "    </tr>\n",
       "    <tr>\n",
       "      <th>4</th>\n",
       "      <td>TRACK2A5</td>\n",
       "      <td>agar tidak terkena bencana lagi dan terhindar ...</td>\n",
       "      <td>1</td>\n",
       "      <td>0.0</td>\n",
       "      <td>0</td>\n",
       "    </tr>\n",
       "  </tbody>\n",
       "</table>\n",
       "</div>"
      ],
      "text/plain": [
       "     RES_ID                                           RESPONSE  SKOR 1  \\\n",
       "0  TRACK2A1  penggusi iklim adalah orang orang yang terpaks...       1   \n",
       "1  TRACK2A2                        dengan sabar menjalani nya.       1   \n",
       "2  TRACK2A3  Orang orang yang terpaksa meninggalkan komunit...       1   \n",
       "3  TRACK2A4                 berkenalan dengan orang asing/baru       0   \n",
       "4  TRACK2A5  agar tidak terkena bencana lagi dan terhindar ...       1   \n",
       "\n",
       "   SKOR 2  AES  \n",
       "0     0.0    0  \n",
       "1     0.0    1  \n",
       "2     0.0    0  \n",
       "3     1.0    1  \n",
       "4     0.0    0  "
      ]
     },
     "execution_count": 13,
     "metadata": {},
     "output_type": "execute_result"
    }
   ],
   "source": [
    "data = pd.read_excel(\"data/TRACK 2 DATA A.xlsx\")\n",
    "respon = data['RESPONSE']\n",
    "res_id = data['RES_ID'].tolist()\n",
    "# label = data['LABEL']\n",
    "# label = [int(x) for x in label]\n",
    "# respon = [x.lower() for x in respon]\n",
    "skor1 = data['SKOR 1']\n",
    "skor2 = data['SKOR 2']\n",
    "aes = data['AES']\n",
    "\n",
    "data.head()"
   ]
  },
  {
   "cell_type": "code",
   "execution_count": 14,
   "metadata": {
    "scrolled": true
   },
   "outputs": [
    {
     "name": "stdout",
     "output_type": "stream",
     "text": [
      ".....50.....100.....150."
     ]
    }
   ],
   "source": [
    "respon_list = list()\n",
    "ixx = 1\n",
    "oo = 0\n",
    "for teks in respon:\n",
    "    a = tknzr.tokenize(teks)\n",
    "    a = \" \".join(a)\n",
    "#     a = teks\n",
    "    a = pps.preprocessing(teks)\n",
    "    a = pps.removePunc(a)\n",
    "    a = ct.norm_typo(a)\n",
    "    a = nkbi.norm_kbbi(a)\n",
    "    a = stm.stemmer_kata(a)\n",
    "#     a = stm.stop_word(a)\n",
    "    a = re.sub(' +', ' ',a)\n",
    "    a = a.lstrip()\n",
    "    respon_list.append(a)\n",
    "    if ixx%10==0:\n",
    "        #oo+=1\n",
    "        print(\".\", end =\"\")\n",
    "    if ixx%50==0:\n",
    "        print(ixx, end=\"\")\n",
    "    ixx+=1"
   ]
  },
  {
   "cell_type": "code",
   "execution_count": 15,
   "metadata": {
    "scrolled": true
   },
   "outputs": [],
   "source": [
    "from sklearn.feature_extraction.text import TfidfVectorizer\n",
    "vectorizer = TfidfVectorizer()\n",
    "X = vectorizer.fit_transform(respon_list)\n",
    "\n",
    "fitur = vectorizer.get_feature_names()"
   ]
  },
  {
   "cell_type": "code",
   "execution_count": 16,
   "metadata": {},
   "outputs": [
    {
     "data": {
      "text/plain": [
       "161"
      ]
     },
     "execution_count": 16,
     "metadata": {},
     "output_type": "execute_result"
    }
   ],
   "source": [
    "from sklearn.cluster import KMeans\n",
    "import numpy as np\n",
    "\n",
    "kmeans = KMeans(n_clusters=2, random_state=0).fit(X)\n",
    "new_labels =  kmeans.labels_\n",
    "y = new_labels\n",
    "len(y)"
   ]
  },
  {
   "cell_type": "code",
   "execution_count": null,
   "metadata": {},
   "outputs": [],
   "source": []
  },
  {
   "cell_type": "code",
   "execution_count": 17,
   "metadata": {},
   "outputs": [
    {
     "data": {
      "text/html": [
       "<div>\n",
       "<style scoped>\n",
       "    .dataframe tbody tr th:only-of-type {\n",
       "        vertical-align: middle;\n",
       "    }\n",
       "\n",
       "    .dataframe tbody tr th {\n",
       "        vertical-align: top;\n",
       "    }\n",
       "\n",
       "    .dataframe thead th {\n",
       "        text-align: right;\n",
       "    }\n",
       "</style>\n",
       "<table border=\"1\" class=\"dataframe\">\n",
       "  <thead>\n",
       "    <tr style=\"text-align: right;\">\n",
       "      <th></th>\n",
       "      <th>res-id</th>\n",
       "      <th>new_label</th>\n",
       "      <th>skor1</th>\n",
       "      <th>skor2</th>\n",
       "      <th>aes</th>\n",
       "      <th>respon_old</th>\n",
       "      <th>respon</th>\n",
       "    </tr>\n",
       "  </thead>\n",
       "  <tbody>\n",
       "    <tr>\n",
       "      <th>0</th>\n",
       "      <td>TRACK2A1</td>\n",
       "      <td>1</td>\n",
       "      <td>1</td>\n",
       "      <td>0.0</td>\n",
       "      <td>0</td>\n",
       "      <td>penggusi iklim adalah orang orang yang terpaks...</td>\n",
       "      <td>pengungsi iklim adalah orang orang yang terpak...</td>\n",
       "    </tr>\n",
       "    <tr>\n",
       "      <th>1</th>\n",
       "      <td>TRACK2A2</td>\n",
       "      <td>0</td>\n",
       "      <td>1</td>\n",
       "      <td>0.0</td>\n",
       "      <td>1</td>\n",
       "      <td>dengan sabar menjalani nya.</td>\n",
       "      <td>dengan sabar menjalani nya</td>\n",
       "    </tr>\n",
       "    <tr>\n",
       "      <th>2</th>\n",
       "      <td>TRACK2A3</td>\n",
       "      <td>1</td>\n",
       "      <td>1</td>\n",
       "      <td>0.0</td>\n",
       "      <td>0</td>\n",
       "      <td>Orang orang yang terpaksa meninggalkan komunit...</td>\n",
       "      <td>orang orang yang terpaksa meninggalkan komunit...</td>\n",
       "    </tr>\n",
       "    <tr>\n",
       "      <th>3</th>\n",
       "      <td>TRACK2A4</td>\n",
       "      <td>0</td>\n",
       "      <td>0</td>\n",
       "      <td>1.0</td>\n",
       "      <td>1</td>\n",
       "      <td>berkenalan dengan orang asing/baru</td>\n",
       "      <td>berkenalan dengan orang asing baru</td>\n",
       "    </tr>\n",
       "    <tr>\n",
       "      <th>4</th>\n",
       "      <td>TRACK2A5</td>\n",
       "      <td>0</td>\n",
       "      <td>1</td>\n",
       "      <td>0.0</td>\n",
       "      <td>0</td>\n",
       "      <td>agar tidak terkena bencana lagi dan terhindar ...</td>\n",
       "      <td>agar tidak terkena bencana lagi dan terhindar ...</td>\n",
       "    </tr>\n",
       "  </tbody>\n",
       "</table>\n",
       "</div>"
      ],
      "text/plain": [
       "     res-id  new_label  skor1  skor2  aes  \\\n",
       "0  TRACK2A1          1      1    0.0    0   \n",
       "1  TRACK2A2          0      1    0.0    1   \n",
       "2  TRACK2A3          1      1    0.0    0   \n",
       "3  TRACK2A4          0      0    1.0    1   \n",
       "4  TRACK2A5          0      1    0.0    0   \n",
       "\n",
       "                                          respon_old  \\\n",
       "0  penggusi iklim adalah orang orang yang terpaks...   \n",
       "1                        dengan sabar menjalani nya.   \n",
       "2  Orang orang yang terpaksa meninggalkan komunit...   \n",
       "3                 berkenalan dengan orang asing/baru   \n",
       "4  agar tidak terkena bencana lagi dan terhindar ...   \n",
       "\n",
       "                                              respon  \n",
       "0  pengungsi iklim adalah orang orang yang terpak...  \n",
       "1                         dengan sabar menjalani nya  \n",
       "2  orang orang yang terpaksa meninggalkan komunit...  \n",
       "3                 berkenalan dengan orang asing baru  \n",
       "4  agar tidak terkena bencana lagi dan terhindar ...  "
      ]
     },
     "execution_count": 17,
     "metadata": {},
     "output_type": "execute_result"
    }
   ],
   "source": [
    "dit_ ={\n",
    "    'res-id':res_id,\n",
    "#     'label':label,\n",
    "    'new_label': y,\n",
    "    'skor1':skor1,\n",
    "    'skor2':skor2,\n",
    "    'aes':aes,\n",
    "    'respon_old':respon,\n",
    "    'respon':respon_list\n",
    "}\n",
    "h = pd.DataFrame.from_dict(dit_)\n",
    "h.to_excel('data/Data_B_Bersih_2.xlsx')\n",
    "h.head()"
   ]
  },
  {
   "cell_type": "code",
   "execution_count": null,
   "metadata": {},
   "outputs": [],
   "source": []
  }
 ],
 "metadata": {
  "kernelspec": {
   "display_name": "Python 3",
   "language": "python",
   "name": "python3"
  },
  "language_info": {
   "codemirror_mode": {
    "name": "ipython",
    "version": 3
   },
   "file_extension": ".py",
   "mimetype": "text/x-python",
   "name": "python",
   "nbconvert_exporter": "python",
   "pygments_lexer": "ipython3",
   "version": "3.7.3"
  }
 },
 "nbformat": 4,
 "nbformat_minor": 2
}
