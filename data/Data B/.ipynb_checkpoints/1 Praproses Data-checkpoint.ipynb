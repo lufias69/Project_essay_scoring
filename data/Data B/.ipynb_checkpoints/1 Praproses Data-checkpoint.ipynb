{
 "cells": [
  {
   "cell_type": "code",
   "execution_count": 20,
   "metadata": {},
   "outputs": [],
   "source": [
    "import sys\n",
    "sys.path.append('D:\\github\\python')\n",
    "import pandas as pd\n",
    "import xlsxwriter\n",
    "import re\n",
    "import time\n",
    "import numpy as np\n",
    "# from Modul.modulku import praproses as pps\n",
    "from Cek_typo import cek_typo as ct\n",
    "from Normalisasi_KBBI import normalisasi_kbbi as nkbi\n",
    "from modulku import praproses as pps\n",
    "from modulku import StemNstopW as stm\n",
    "import re\n",
    "from nltk.tokenize import TweetTokenizer\n",
    "tknzr = TweetTokenizer(strip_handles=True, reduce_len=True)"
   ]
  },
  {
   "cell_type": "code",
   "execution_count": 35,
   "metadata": {},
   "outputs": [
    {
     "data": {
      "text/html": [
       "<div>\n",
       "<style scoped>\n",
       "    .dataframe tbody tr th:only-of-type {\n",
       "        vertical-align: middle;\n",
       "    }\n",
       "\n",
       "    .dataframe tbody tr th {\n",
       "        vertical-align: top;\n",
       "    }\n",
       "\n",
       "    .dataframe thead th {\n",
       "        text-align: right;\n",
       "    }\n",
       "</style>\n",
       "<table border=\"1\" class=\"dataframe\">\n",
       "  <thead>\n",
       "    <tr style=\"text-align: right;\">\n",
       "      <th></th>\n",
       "      <th>RES_ID</th>\n",
       "      <th>LABEL</th>\n",
       "      <th>label2</th>\n",
       "      <th>RESPONSE</th>\n",
       "    </tr>\n",
       "  </thead>\n",
       "  <tbody>\n",
       "    <tr>\n",
       "      <th>0</th>\n",
       "      <td>TRB48</td>\n",
       "      <td>1.0</td>\n",
       "      <td>0</td>\n",
       "      <td>upaya untuk membuat produksi pakaian menjadi l...</td>\n",
       "    </tr>\n",
       "    <tr>\n",
       "      <th>1</th>\n",
       "      <td>TRB185</td>\n",
       "      <td>0.0</td>\n",
       "      <td>0</td>\n",
       "      <td>upaya untuk membuat produksi pakaian menjadi l...</td>\n",
       "    </tr>\n",
       "    <tr>\n",
       "      <th>2</th>\n",
       "      <td>TRB100</td>\n",
       "      <td>0.0</td>\n",
       "      <td>0</td>\n",
       "      <td>untuk meningkatkan kualitas barang yang memuas...</td>\n",
       "    </tr>\n",
       "    <tr>\n",
       "      <th>3</th>\n",
       "      <td>TRB82</td>\n",
       "      <td>0.0</td>\n",
       "      <td>0</td>\n",
       "      <td>untuk mengurangi penggunan air</td>\n",
       "    </tr>\n",
       "    <tr>\n",
       "      <th>4</th>\n",
       "      <td>TRB37</td>\n",
       "      <td>0.0</td>\n",
       "      <td>0</td>\n",
       "      <td>untuk membuat toko tersebut lebih bagus lagi d...</td>\n",
       "    </tr>\n",
       "  </tbody>\n",
       "</table>\n",
       "</div>"
      ],
      "text/plain": [
       "   RES_ID  LABEL  label2                                           RESPONSE\n",
       "0   TRB48    1.0       0  upaya untuk membuat produksi pakaian menjadi l...\n",
       "1  TRB185    0.0       0  upaya untuk membuat produksi pakaian menjadi l...\n",
       "2  TRB100    0.0       0  untuk meningkatkan kualitas barang yang memuas...\n",
       "3   TRB82    0.0       0                     untuk mengurangi penggunan air\n",
       "4   TRB37    0.0       0  untuk membuat toko tersebut lebih bagus lagi d..."
      ]
     },
     "execution_count": 35,
     "metadata": {},
     "output_type": "execute_result"
    }
   ],
   "source": [
    "data = pd.read_excel(\"data/data_train_B.xlsx\")\n",
    "respon = data['RESPONSE']\n",
    "label = data['label2']\n",
    "label = [int(x) for x in label]\n",
    "respon = [x.lower() for x in respon]\n",
    "data.head()"
   ]
  },
  {
   "cell_type": "code",
   "execution_count": 36,
   "metadata": {
    "scrolled": true
   },
   "outputs": [
    {
     "name": "stdout",
     "output_type": "stream",
     "text": [
      ".....50.....100.....150.....200.....250.....300"
     ]
    }
   ],
   "source": [
    "respon_list = list()\n",
    "ixx = 1\n",
    "oo = 0\n",
    "for teks in respon:\n",
    "    a = tknzr.tokenize(teks)\n",
    "    a = \" \".join(a)\n",
    "#     a = teks\n",
    "    a = pps.preprocessing(teks)\n",
    "    a = pps.removePunc(a)\n",
    "    a = ct.norm_typo(a)\n",
    "    a = nkbi.norm_kbbi(a)\n",
    "    a = stm.stemmer_kata(a)\n",
    "#     a = stm.stop_word(a)\n",
    "    a = re.sub(' +', ' ',a)\n",
    "    a = a.lstrip()\n",
    "    respon_list.append(a)\n",
    "    if ixx%10==0:\n",
    "        #oo+=1\n",
    "        print(\".\", end =\"\")\n",
    "    if ixx%50==0:\n",
    "        print(ixx, end=\"\")\n",
    "    ixx+=1"
   ]
  },
  {
   "cell_type": "code",
   "execution_count": 37,
   "metadata": {},
   "outputs": [
    {
     "data": {
      "text/html": [
       "<div>\n",
       "<style scoped>\n",
       "    .dataframe tbody tr th:only-of-type {\n",
       "        vertical-align: middle;\n",
       "    }\n",
       "\n",
       "    .dataframe tbody tr th {\n",
       "        vertical-align: top;\n",
       "    }\n",
       "\n",
       "    .dataframe thead th {\n",
       "        text-align: right;\n",
       "    }\n",
       "</style>\n",
       "<table border=\"1\" class=\"dataframe\">\n",
       "  <thead>\n",
       "    <tr style=\"text-align: right;\">\n",
       "      <th></th>\n",
       "      <th>label</th>\n",
       "      <th>respon</th>\n",
       "    </tr>\n",
       "  </thead>\n",
       "  <tbody>\n",
       "    <tr>\n",
       "      <th>0</th>\n",
       "      <td>0</td>\n",
       "      <td>upaya buat produksi pakai jadi lebih etika</td>\n",
       "    </tr>\n",
       "    <tr>\n",
       "      <th>1</th>\n",
       "      <td>0</td>\n",
       "      <td>upaya buat produksi pakai jadi lebih etika</td>\n",
       "    </tr>\n",
       "    <tr>\n",
       "      <th>2</th>\n",
       "      <td>0</td>\n",
       "      <td>tingkat kualitas barang muas konsumen da jadi ...</td>\n",
       "    </tr>\n",
       "    <tr>\n",
       "      <th>3</th>\n",
       "      <td>0</td>\n",
       "      <td>kurang air</td>\n",
       "    </tr>\n",
       "    <tr>\n",
       "      <th>4</th>\n",
       "      <td>0</td>\n",
       "      <td>buat toko sebut lebih bagus dan lebih complete</td>\n",
       "    </tr>\n",
       "  </tbody>\n",
       "</table>\n",
       "</div>"
      ],
      "text/plain": [
       "   label                                             respon\n",
       "0      0         upaya buat produksi pakai jadi lebih etika\n",
       "1      0         upaya buat produksi pakai jadi lebih etika\n",
       "2      0  tingkat kualitas barang muas konsumen da jadi ...\n",
       "3      0                                         kurang air\n",
       "4      0     buat toko sebut lebih bagus dan lebih complete"
      ]
     },
     "execution_count": 37,
     "metadata": {},
     "output_type": "execute_result"
    }
   ],
   "source": [
    "dit_ ={\n",
    "    'label':label,\n",
    "    'respon':respon_list\n",
    "}\n",
    "h = pd.DataFrame.from_dict(dit_)\n",
    "h.to_excel('data/Data_B_Bersih_lengkap_new.xlsx')\n",
    "h.head()"
   ]
  },
  {
   "cell_type": "code",
   "execution_count": null,
   "metadata": {},
   "outputs": [],
   "source": []
  }
 ],
 "metadata": {
  "kernelspec": {
   "display_name": "Python 3",
   "language": "python",
   "name": "python3"
  },
  "language_info": {
   "codemirror_mode": {
    "name": "ipython",
    "version": 3
   },
   "file_extension": ".py",
   "mimetype": "text/x-python",
   "name": "python",
   "nbconvert_exporter": "python",
   "pygments_lexer": "ipython3",
   "version": "3.7.3"
  }
 },
 "nbformat": 4,
 "nbformat_minor": 2
}
