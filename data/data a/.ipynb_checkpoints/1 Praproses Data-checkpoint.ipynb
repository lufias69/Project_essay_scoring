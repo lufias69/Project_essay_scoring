{
 "cells": [
  {
   "cell_type": "code",
   "execution_count": 1,
   "metadata": {},
   "outputs": [],
   "source": [
    "import sys\n",
    "sys.path.append('D:\\github\\python')\n",
    "import pandas as pd\n",
    "import xlsxwriter\n",
    "import re\n",
    "import time\n",
    "import numpy as np\n",
    "import pandas as pd\n",
    "# from Modul.modulku import praproses as pps\n",
    "from Cek_typo import cek_typo as ct\n",
    "from Normalisasi_KBBI import normalisasi_kbbi as nkbi\n",
    "from modulku import praproses as pps\n",
    "from modulku import StemNstopW as stm\n",
    "from nltk.tokenize import TweetTokenizer\n",
    "tknzr = TweetTokenizer(strip_handles=True, reduce_len=True)\n",
    "from essay_scoring.ES import scoring as sc\n",
    "import json"
   ]
  },
  {
   "cell_type": "code",
   "execution_count": 2,
   "metadata": {},
   "outputs": [
    {
     "data": {
      "text/plain": [
       "'depan'"
      ]
     },
     "execution_count": 2,
     "metadata": {},
     "output_type": "execute_result"
    }
   ],
   "source": [
    "ct.norm_typo(\"dpan\")"
   ]
  },
  {
   "cell_type": "code",
   "execution_count": 3,
   "metadata": {
    "scrolled": true
   },
   "outputs": [],
   "source": [
    "data = pd.read_excel(\"data/data_train_A.xlsx\")\n",
    "res_id = data['RES_ID'].tolist()\n",
    "respon = data['RESPONSE'].tolist()\n",
    "\n",
    "label = data['LABEL'].tolist()\n",
    "\n",
    "data = pd.read_excel(\"data/data_dev_A.xlsx\")\n",
    "res_id = res_id+data['RES_ID'].tolist()\n",
    "respon = respon+data['RESPONSE'].tolist()"
   ]
  },
  {
   "cell_type": "code",
   "execution_count": 4,
   "metadata": {},
   "outputs": [
    {
     "data": {
      "text/plain": [
       "483"
      ]
     },
     "execution_count": 4,
     "metadata": {},
     "output_type": "execute_result"
    }
   ],
   "source": [
    "len(res_id)"
   ]
  },
  {
   "cell_type": "code",
   "execution_count": 5,
   "metadata": {},
   "outputs": [
    {
     "data": {
      "text/plain": [
       "483"
      ]
     },
     "execution_count": 5,
     "metadata": {},
     "output_type": "execute_result"
    }
   ],
   "source": [
    "len(res_id)"
   ]
  },
  {
   "cell_type": "code",
   "execution_count": 6,
   "metadata": {
    "scrolled": true
   },
   "outputs": [
    {
     "name": "stdout",
     "output_type": "stream",
     "text": [
      ".....50.....100.....150.....200.....250.....300.....350.....400.....450..."
     ]
    }
   ],
   "source": [
    "respon_list = list()\n",
    "ixx = 1\n",
    "oo = 0\n",
    "for teks in respon:\n",
    "    a = tknzr.tokenize(teks)\n",
    "    a = \" \".join(a)\n",
    "#     a = teks\n",
    "    a = pps.preprocessing(teks)\n",
    "    a = pps.removePunc(a)\n",
    "    a = ct.norm_typo(a)\n",
    "    a = nkbi.norm_kbbi(a)\n",
    "    a = stm.stemmer_kata(a)\n",
    "#     a = stm.stop_word(a)\n",
    "    a = re.sub(' +', ' ',a)\n",
    "    a = a.lstrip()\n",
    "    respon_list.append(a)\n",
    "    if ixx%10==0:\n",
    "        #oo+=1\n",
    "        print(\".\", end =\"\")\n",
    "    if ixx%50==0:\n",
    "        print(ixx, end=\"\")\n",
    "    ixx+=1"
   ]
  },
  {
   "cell_type": "code",
   "execution_count": 7,
   "metadata": {},
   "outputs": [
    {
     "data": {
      "text/plain": [
       "483"
      ]
     },
     "execution_count": 7,
     "metadata": {},
     "output_type": "execute_result"
    }
   ],
   "source": [
    "from sklearn.feature_extraction.text import TfidfVectorizer\n",
    "from sklearn.cluster import KMeans\n",
    "import numpy as np\n",
    "\n",
    "vectorizer = TfidfVectorizer()\n",
    "X = vectorizer.fit_transform(respon_list)\n",
    "save_ = vectorizer.fit(respon)\n",
    "\n",
    "\n",
    "kmeans = KMeans(n_clusters=2, random_state=0).fit(X)\n",
    "new_labels =  kmeans.labels_\n",
    "y = new_labels\n",
    "len(y)"
   ]
  },
  {
   "cell_type": "code",
   "execution_count": null,
   "metadata": {},
   "outputs": [],
   "source": []
  },
  {
   "cell_type": "code",
   "execution_count": null,
   "metadata": {},
   "outputs": [],
   "source": []
  },
  {
   "cell_type": "code",
   "execution_count": null,
   "metadata": {},
   "outputs": [],
   "source": []
  },
  {
   "cell_type": "code",
   "execution_count": 8,
   "metadata": {},
   "outputs": [
    {
     "data": {
      "text/html": [
       "<div>\n",
       "<style scoped>\n",
       "    .dataframe tbody tr th:only-of-type {\n",
       "        vertical-align: middle;\n",
       "    }\n",
       "\n",
       "    .dataframe tbody tr th {\n",
       "        vertical-align: top;\n",
       "    }\n",
       "\n",
       "    .dataframe thead th {\n",
       "        text-align: right;\n",
       "    }\n",
       "</style>\n",
       "<table border=\"1\" class=\"dataframe\">\n",
       "  <thead>\n",
       "    <tr style=\"text-align: right;\">\n",
       "      <th></th>\n",
       "      <th>res_id</th>\n",
       "      <th>label</th>\n",
       "      <th>new_label</th>\n",
       "      <th>respon_old</th>\n",
       "      <th>respon</th>\n",
       "    </tr>\n",
       "  </thead>\n",
       "  <tbody>\n",
       "    <tr>\n",
       "      <th>0</th>\n",
       "      <td>TRA1</td>\n",
       "      <td>1</td>\n",
       "      <td>1</td>\n",
       "      <td>intetraksi/beradaptasi terhadap lingkungan yan...</td>\n",
       "      <td>interaksi beradaptasi terhadap lingkungan yang...</td>\n",
       "    </tr>\n",
       "    <tr>\n",
       "      <th>1</th>\n",
       "      <td>TRA2</td>\n",
       "      <td>0</td>\n",
       "      <td>0</td>\n",
       "      <td>seperti jatuhnya meteor tsunami gempa bumi</td>\n",
       "      <td>seperti jatuhnya meteor tsunami gempa bumi</td>\n",
       "    </tr>\n",
       "    <tr>\n",
       "      <th>2</th>\n",
       "      <td>TRA3</td>\n",
       "      <td>0</td>\n",
       "      <td>0</td>\n",
       "      <td>hanya tuhan yang tahu tantangan nya itu apaan</td>\n",
       "      <td>hanya tuhan yang tahu tantangan nya itu apa</td>\n",
       "    </tr>\n",
       "    <tr>\n",
       "      <th>3</th>\n",
       "      <td>TRA4</td>\n",
       "      <td>1</td>\n",
       "      <td>1</td>\n",
       "      <td>mereka akan sulit beradaptasi</td>\n",
       "      <td>mereka akan sulit beradaptasi</td>\n",
       "    </tr>\n",
       "    <tr>\n",
       "      <th>4</th>\n",
       "      <td>TRA5</td>\n",
       "      <td>1</td>\n",
       "      <td>0</td>\n",
       "      <td>Tempat tinggal, ekonomi, dan pekerjaan</td>\n",
       "      <td>tempat tinggal ekonomi dan pekerjaan</td>\n",
       "    </tr>\n",
       "  </tbody>\n",
       "</table>\n",
       "</div>"
      ],
      "text/plain": [
       "  res_id  label  new_label                                         respon_old  \\\n",
       "0   TRA1      1          1  intetraksi/beradaptasi terhadap lingkungan yan...   \n",
       "1   TRA2      0          0         seperti jatuhnya meteor tsunami gempa bumi   \n",
       "2   TRA3      0          0      hanya tuhan yang tahu tantangan nya itu apaan   \n",
       "3   TRA4      1          1                      mereka akan sulit beradaptasi   \n",
       "4   TRA5      1          0             Tempat tinggal, ekonomi, dan pekerjaan   \n",
       "\n",
       "                                              respon  \n",
       "0  interaksi beradaptasi terhadap lingkungan yang...  \n",
       "1         seperti jatuhnya meteor tsunami gempa bumi  \n",
       "2        hanya tuhan yang tahu tantangan nya itu apa  \n",
       "3                      mereka akan sulit beradaptasi  \n",
       "4               tempat tinggal ekonomi dan pekerjaan  "
      ]
     },
     "execution_count": 8,
     "metadata": {},
     "output_type": "execute_result"
    }
   ],
   "source": [
    "dit_ ={\n",
    "    'res_id':res_id[:268],\n",
    "    'label':label[:268],\n",
    "    'new_label':y[:268],\n",
    "    'respon_old':respon[:268],\n",
    "    'respon':respon_list[:268]\n",
    "}\n",
    "h = pd.DataFrame.from_dict(dit_)\n",
    "# h.to_excel('data/Data_A_Bersih_268.xlsx')\n",
    "h.to_excel('data/data_Train_A_stemer(TRUE).xlsx') #data_dev_A\n",
    "h.head()"
   ]
  },
  {
   "cell_type": "code",
   "execution_count": null,
   "metadata": {},
   "outputs": [],
   "source": []
  }
 ],
 "metadata": {
  "kernelspec": {
   "display_name": "Python 3",
   "language": "python",
   "name": "python3"
  },
  "language_info": {
   "codemirror_mode": {
    "name": "ipython",
    "version": 3
   },
   "file_extension": ".py",
   "mimetype": "text/x-python",
   "name": "python",
   "nbconvert_exporter": "python",
   "pygments_lexer": "ipython3",
   "version": "3.7.3"
  }
 },
 "nbformat": 4,
 "nbformat_minor": 2
}
