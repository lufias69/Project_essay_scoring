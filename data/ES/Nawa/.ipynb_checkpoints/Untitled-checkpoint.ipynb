{
 "cells": [
  {
   "cell_type": "code",
   "execution_count": 52,
   "metadata": {},
   "outputs": [
    {
     "data": {
      "text/html": [
       "<div>\n",
       "<style scoped>\n",
       "    .dataframe tbody tr th:only-of-type {\n",
       "        vertical-align: middle;\n",
       "    }\n",
       "\n",
       "    .dataframe tbody tr th {\n",
       "        vertical-align: top;\n",
       "    }\n",
       "\n",
       "    .dataframe thead th {\n",
       "        text-align: right;\n",
       "    }\n",
       "</style>\n",
       "<table border=\"1\" class=\"dataframe\">\n",
       "  <thead>\n",
       "    <tr style=\"text-align: right;\">\n",
       "      <th></th>\n",
       "      <th>Unnamed: 0</th>\n",
       "      <th>res_id</th>\n",
       "      <th>new_label</th>\n",
       "      <th>respon_old</th>\n",
       "      <th>respon</th>\n",
       "    </tr>\n",
       "  </thead>\n",
       "  <tbody>\n",
       "    <tr>\n",
       "      <th>0</th>\n",
       "      <td>0</td>\n",
       "      <td>DEVA1</td>\n",
       "      <td>1</td>\n",
       "      <td>karena di tempat tnggalnya tidak aman karena b...</td>\n",
       "      <td>karena di tempat tangan tidak aman karena bany...</td>\n",
       "    </tr>\n",
       "  </tbody>\n",
       "</table>\n",
       "</div>"
      ],
      "text/plain": [
       "   Unnamed: 0 res_id  new_label  \\\n",
       "0           0  DEVA1          1   \n",
       "\n",
       "                                          respon_old  \\\n",
       "0  karena di tempat tnggalnya tidak aman karena b...   \n",
       "\n",
       "                                              respon  \n",
       "0  karena di tempat tangan tidak aman karena bany...  "
      ]
     },
     "execution_count": 52,
     "metadata": {},
     "output_type": "execute_result"
    }
   ],
   "source": [
    "import pandas as pd\n",
    "import json\n",
    "data = pd. read_excel('data_stemer(False).xlsx')\n",
    "respon = data['respon'].tolist()\n",
    "data.head(1)"
   ]
  },
  {
   "cell_type": "code",
   "execution_count": 99,
   "metadata": {},
   "outputs": [],
   "source": [
    "from sklearn.feature_extraction.text import TfidfVectorizer\n",
    "from joblib import dump, load\n",
    "\n",
    "def tf_idf_build(list_, char = False):\n",
    "    if char==True:\n",
    "        vectorizer = TfidfVectorizer(analyzer='char')\n",
    "    elif char==False:\n",
    "        vectorizer = TfidfVectorizer()\n",
    "    else:\n",
    "        # print(\"FF\")\n",
    "        vectorizer = TfidfVectorizer()\n",
    "    \n",
    "    save = vectorizer.fit(list_)\n",
    "    dump(vectorizer.fit(list_), 'model_tdidf/tdfidf.joblib')\n",
    "    tfidf = vectorizer.fit_transform(list_)\n",
    "    #save fitur\n",
    "    fitur = vectorizer.get_feature_names()\n",
    "#     print(type(tfidf.A))\n",
    "    with open('model_tdidf/vectors.json','w') as filename:\n",
    "        json.dump(tfidf.A.tolist(), filename)\n",
    "#     bobot_kata = save.transform([\"adanya adaptasi\"]).A\n",
    "#     print(bobot_kata)\n",
    "\n",
    "def tf_idf(data):\n",
    "    if type(data)!= list:\n",
    "        data=[data]\n",
    "    tfidf = load('model_tdidf/tdfidf.joblib')\n",
    "    if len(data)>1:\n",
    "        return tfidf.transform(data).A.tolist()\n",
    "    else:\n",
    "        return tfidf.transform(data).A[0].tolist()"
   ]
  },
  {
   "cell_type": "code",
   "execution_count": 102,
   "metadata": {
    "scrolled": true
   },
   "outputs": [
    {
     "data": {
      "text/plain": [
       "2"
      ]
     },
     "execution_count": 102,
     "metadata": {},
     "output_type": "execute_result"
    }
   ],
   "source": [
    "tf_idf_bulid(respon)\n",
    "data = [\"karena di tempat tnggalnya tidak aman karena \",\"karena di tempat tnggalnya tidak aman karena \"]\n",
    "len(tf_idf(data))"
   ]
  }
 ],
 "metadata": {
  "kernelspec": {
   "display_name": "Python 3",
   "language": "python",
   "name": "python3"
  },
  "language_info": {
   "codemirror_mode": {
    "name": "ipython",
    "version": 3
   },
   "file_extension": ".py",
   "mimetype": "text/x-python",
   "name": "python",
   "nbconvert_exporter": "python",
   "pygments_lexer": "ipython3",
   "version": "3.7.3"
  }
 },
 "nbformat": 4,
 "nbformat_minor": 2
}
